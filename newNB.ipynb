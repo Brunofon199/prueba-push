{
 "cells": [
  {
   "cell_type": "markdown",
   "id": "17e63849",
   "metadata": {},
   "source": [
    "Secrea un nuevo notebook"
   ]
  }
 ],
 "metadata": {
  "language_info": {
   "name": "python"
  }
 },
 "nbformat": 4,
 "nbformat_minor": 5
}
